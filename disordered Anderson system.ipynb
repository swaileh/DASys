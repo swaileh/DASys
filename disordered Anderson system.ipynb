{
 "cells": [
  {
   "cell_type": "markdown",
   "metadata": {},
   "source": [
    "# disordered Anderson system of system size 20*20*20 \n",
    "# author : Wassim Swaileh\n",
    "# ETIS Lab UMR 8051, CY Cergy Paris University, ENSEA, CNRS\n",
    "# Version number : 0.0\n",
    "# Date : 28/11/2020"
   ]
  },
  {
   "cell_type": "markdown",
   "metadata": {},
   "source": [
    "### 1. import libraries"
   ]
  },
  {
   "cell_type": "code",
   "execution_count": 1,
   "metadata": {},
   "outputs": [],
   "source": [
    "import os\n",
    "import glob\n",
    "import bz2\n",
    "from bz2 import BZ2File as bzopen\n",
    "import codecs\n",
    "import keras\n",
    "from keras.models import Sequential\n",
    "from keras.layers import Dense, Dropout, Activation\n",
    "from keras.optimizers import *\n",
    "import numpy as np\n",
    "import numpy as np\n",
    "from sklearn.model_selection import ShuffleSplit\n",
    "from sklearn.utils import shuffle\n",
    "from scipy.sparse import coo_matrix\n",
    "from sklearn.model_selection import train_test_split\n",
    "import matplotlib.pyplot as plt"
   ]
  },
  {
   "cell_type": "code",
   "execution_count": 2,
   "metadata": {},
   "outputs": [],
   "source": [
    "dataname = 'data-L20-8000-RAW-DATA-W15.0-W18.0'\n",
    "data_path='./data'\n",
    "modelname = '/model_'+dataname+'.h5'\n",
    "modelpath = './model'+modelname\n",
    "historyname = '/history_'+dataname+'.pkl'\n",
    "historypath = './model'+historyname"
   ]
  },
  {
   "cell_type": "markdown",
   "metadata": {},
   "source": [
    "### 2. generate dumy data"
   ]
  },
  {
   "cell_type": "code",
   "execution_count": 3,
   "metadata": {},
   "outputs": [
    {
     "name": "stdout",
     "output_type": "stream",
     "text": [
      "0 W15.0\n",
      "1 W18.0\n"
     ]
    }
   ],
   "source": [
    "data_path='./data'\n",
    "example=[]\n",
    "label=[]\n",
    "all_subdirs = [d for d in os.listdir('./data')]\n",
    "#print(all_subdirs)\n",
    "for c_indx, clss in enumerate(all_subdirs):\n",
    "    print(c_indx, clss)\n",
    "    all_files = glob.glob('./data/'+clss+'/*/*/*.raw.bz2')\n",
    "    for e in all_files:\n",
    "        # reading a bz2 archive\n",
    "        with bzopen(all_files[0], \"r\") as bzfin:\n",
    "            \"\"\" Handle lines here \"\"\"\n",
    "            lines = []\n",
    "            for i, line in enumerate(bzfin):\n",
    "                lines.append(float(line.rstrip()))\n",
    "        example.append(lines)\n",
    "        if c_indx == 0:\n",
    "            label.append([1., 0.])\n",
    "        elif c_indx == 1:\n",
    "            label.append([0., 1.])\n",
    "\n",
    "#lines"
   ]
  },
  {
   "cell_type": "code",
   "execution_count": 4,
   "metadata": {},
   "outputs": [],
   "source": [
    "X_sparse = coo_matrix(example)\n",
    "X = np.asarray(example, dtype=np.float32)\n",
    "y = np.asarray(label, dtype=np.float32)\n",
    "# data shuffeling\n",
    "X, X_sparse, y = shuffle(X, X_sparse, y, random_state=0)\n",
    "# train test data split\n",
    "X_train, X_test, y_train, y_test = train_test_split(X, y, test_size=0.30, random_state=42)"
   ]
  },
  {
   "cell_type": "markdown",
   "metadata": {},
   "source": [
    "### Dense layer Model architecture"
   ]
  },
  {
   "cell_type": "code",
   "execution_count": 5,
   "metadata": {},
   "outputs": [],
   "source": [
    "model = Sequential()\n",
    "model.add(Dense(64, activation='relu', input_dim=8000))\n",
    "model.add(Dropout(0.5))\n",
    "model.add(Dense(64, activation='relu'))\n",
    "model.add(Dropout(0.5))\n",
    "model.add(Dense(2, activation='softmax'))\n",
    "\n",
    "sgd = SGD(lr=0.01, decay=1e-6, momentum=0.9, nesterov=True)"
   ]
  },
  {
   "cell_type": "code",
   "execution_count": 6,
   "metadata": {},
   "outputs": [
    {
     "name": "stdout",
     "output_type": "stream",
     "text": [
      "Model: \"sequential\"\n",
      "_________________________________________________________________\n",
      "Layer (type)                 Output Shape              Param #   \n",
      "=================================================================\n",
      "dense (Dense)                (None, 64)                512064    \n",
      "_________________________________________________________________\n",
      "dropout (Dropout)            (None, 64)                0         \n",
      "_________________________________________________________________\n",
      "dense_1 (Dense)              (None, 64)                4160      \n",
      "_________________________________________________________________\n",
      "dropout_1 (Dropout)          (None, 64)                0         \n",
      "_________________________________________________________________\n",
      "dense_2 (Dense)              (None, 2)                 130       \n",
      "=================================================================\n",
      "Total params: 516,354\n",
      "Trainable params: 516,354\n",
      "Non-trainable params: 0\n",
      "_________________________________________________________________\n",
      "None\n"
     ]
    }
   ],
   "source": [
    "model.compile(loss='categorical_crossentropy',\n",
    "                 optimizer=sgd,\n",
    "                 metrics=['accuracy'])\n",
    "print(model.summary())"
   ]
  },
  {
   "cell_type": "code",
   "execution_count": 7,
   "metadata": {},
   "outputs": [
    {
     "name": "stdout",
     "output_type": "stream",
     "text": [
      "Epoch 1/20\n",
      "58/58 [==============================] - 0s 4ms/step - loss: 0.4226 - accuracy: 0.9524\n",
      "Epoch 2/20\n",
      "58/58 [==============================] - 0s 4ms/step - loss: 0.0654 - accuracy: 0.9977\n",
      "Epoch 3/20\n",
      "58/58 [==============================] - 0s 4ms/step - loss: 0.0252 - accuracy: 0.9989\n",
      "Epoch 4/20\n",
      "58/58 [==============================] - 0s 5ms/step - loss: 0.0173 - accuracy: 0.9992\n",
      "Epoch 5/20\n",
      "58/58 [==============================] - 0s 4ms/step - loss: 0.0129 - accuracy: 0.9988\n",
      "Epoch 6/20\n",
      "58/58 [==============================] - 0s 5ms/step - loss: 0.0098 - accuracy: 0.9997\n",
      "Epoch 7/20\n",
      "58/58 [==============================] - 0s 4ms/step - loss: 0.0077 - accuracy: 0.9993\n",
      "Epoch 8/20\n",
      "58/58 [==============================] - 0s 4ms/step - loss: 0.0071 - accuracy: 0.9997\n",
      "Epoch 9/20\n",
      "58/58 [==============================] - 0s 4ms/step - loss: 0.0060 - accuracy: 0.9996\n",
      "Epoch 10/20\n",
      "58/58 [==============================] - 0s 4ms/step - loss: 0.0055 - accuracy: 0.9996\n",
      "Epoch 11/20\n",
      "58/58 [==============================] - 0s 4ms/step - loss: 0.0053 - accuracy: 0.9996\n",
      "Epoch 12/20\n",
      "58/58 [==============================] - 0s 4ms/step - loss: 0.0041 - accuracy: 0.9997\n",
      "Epoch 13/20\n",
      "58/58 [==============================] - 0s 4ms/step - loss: 0.0041 - accuracy: 0.9997\n",
      "Epoch 14/20\n",
      "58/58 [==============================] - 0s 4ms/step - loss: 0.0034 - accuracy: 1.0000\n",
      "Epoch 15/20\n",
      "58/58 [==============================] - 0s 4ms/step - loss: 0.0035 - accuracy: 0.9997\n",
      "Epoch 16/20\n",
      "58/58 [==============================] - 0s 4ms/step - loss: 0.0030 - accuracy: 0.9999\n",
      "Epoch 17/20\n",
      "58/58 [==============================] - 0s 4ms/step - loss: 0.0031 - accuracy: 0.9999\n",
      "Epoch 18/20\n",
      "58/58 [==============================] - 0s 4ms/step - loss: 0.0032 - accuracy: 0.9995\n",
      "Epoch 19/20\n",
      "58/58 [==============================] - 0s 4ms/step - loss: 0.0028 - accuracy: 0.9997\n",
      "Epoch 20/20\n",
      "58/58 [==============================] - 0s 4ms/step - loss: 0.0025 - accuracy: 0.9997\n"
     ]
    }
   ],
   "source": [
    "history = model.fit(X_train, y_train,\n",
    "             epochs=20,\n",
    "             batch_size=128)"
   ]
  },
  {
   "cell_type": "code",
   "execution_count": 8,
   "metadata": {},
   "outputs": [],
   "source": [
    "model.save(modelpath) "
   ]
  },
  {
   "cell_type": "markdown",
   "metadata": {},
   "source": [
    "## testing the quality of the learned model\n",
    "### training history"
   ]
  },
  {
   "cell_type": "code",
   "execution_count": 9,
   "metadata": {},
   "outputs": [
    {
     "name": "stdout",
     "output_type": "stream",
     "text": [
      "25/25 [==============================] - 0s 2ms/step - loss: 2.4661e-06 - accuracy: 1.0000\n",
      "\n",
      "Test loss: 2.4660546387167415e-06\n",
      "Test accuracy: 1.0\n"
     ]
    },
    {
     "data": {
      "image/png": "[encoded data removed]",
      "text/plain": [
       "<Figure size 432x288 with 1 Axes>"
      ]
     },
     "metadata": {
      "needs_background": "light"
     },
     "output_type": "display_data"
    },
    {
     "data": {
      "image/png": "[encoded data removed]",
      "text/plain": [
       "<Figure size 432x288 with 1 Axes>"
      ]
     },
     "metadata": {
      "needs_background": "light"
     },
     "output_type": "display_data"
    }
   ],
   "source": [
    "# evaluate model\n",
    "#score=model.evaluate(validation_set,verbose=1)\n",
    "score = model.evaluate(X_test, y_test, batch_size=128,)\n",
    "\n",
    "# print performance\n",
    "print()\n",
    "print('Test loss:', score[0])\n",
    "print('Test accuracy:', score[1])\n",
    "\n",
    "# look into training history\n",
    "\n",
    "# summarize history for accuracy\n",
    "fig=plt.figure()\n",
    "plt.plot(history.history['accuracy'])\n",
    "#plt.plot(history.history['val_accuracy'])\n",
    "plt.ylabel('model accuracy')\n",
    "plt.xlabel('epoch')\n",
    "plt.legend(['train', 'test'], loc='best')\n",
    "plt.title(dataname)\n",
    "plt.show()\n",
    "#fig.savefig(datapath+'/'+dataname+'_accuracy'+'.png')\n",
    "\n",
    "# summarize history for loss\n",
    "fig=plt.figure()\n",
    "plt.plot(history.history['loss'])\n",
    "#plt.plot(history.history['val_loss'])\n",
    "plt.ylabel('model loss')\n",
    "plt.xlabel('epoch')\n",
    "plt.legend(['train', 'test'], loc='best')\n",
    "plt.title(dataname)\n",
    "plt.show()\n",
    "#fig.savefig(datapath+'/'+dataname+'_loss'+'.png')"
   ]
  },
  {
   "cell_type": "code",
   "execution_count": 10,
   "metadata": {},
   "outputs": [
    {
     "data": {
      "text/plain": [
       "array([[9.9999690e-01, 3.1522443e-06]], dtype=float32)"
      ]
     },
     "execution_count": 10,
     "metadata": {},
     "output_type": "execute_result"
    }
   ],
   "source": [
    "model.predict(X_test[50:51], batch_size=None, verbose=0, steps=None)"
   ]
  },
  {
   "cell_type": "code",
   "execution_count": 11,
   "metadata": {},
   "outputs": [
    {
     "data": {
      "text/plain": [
       "array([1., 0.], dtype=float32)"
      ]
     },
     "execution_count": 11,
     "metadata": {},
     "output_type": "execute_result"
    }
   ],
   "source": [
    "y_test[50]"
   ]
  },
  {
   "cell_type": "code",
   "execution_count": null,
   "metadata": {},
   "outputs": [],
   "source": []
  }
 ],
 "metadata": {
  "kernelspec": {
   "display_name": "Python 3",
   "language": "python",
   "name": "python3"
  },
  "language_info": {
   "codemirror_mode": {
    "name": "ipython",
    "version": 3
   },
   "file_extension": ".py",
   "mimetype": "text/x-python",
   "name": "python",
   "nbconvert_exporter": "python",
   "pygments_lexer": "ipython3",
   "version": "3.8.3"
  }
 },
 "nbformat": 4,
 "nbformat_minor": 4
}
