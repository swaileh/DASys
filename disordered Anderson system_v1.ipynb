{
 "cells": [
  {
   "cell_type": "markdown",
   "metadata": {},
   "source": [
    "# disordered Anderson system of system size 20x20x20 \n",
    "# author : Wassim Swaileh\n",
    "# ETIS Lab UMR 8051, CY Cergy Paris University, ENSEA, CNRS\n",
    "# Version number : 0.0\n",
    "# Date : 28/11/2020"
   ]
  },
  {
   "cell_type": "markdown",
   "metadata": {},
   "source": [
    "### 1. import libraries"
   ]
  },
  {
   "cell_type": "code",
   "execution_count": 1,
   "metadata": {},
   "outputs": [],
   "source": [
    "import os\n",
    "import glob\n",
    "import bz2\n",
    "from bz2 import BZ2File as bzopen\n",
    "import codecs\n",
    "import keras\n",
    "from keras.models import Sequential\n",
    "from keras.layers import Dense, Dropout, Activation\n",
    "from keras.optimizers import *\n",
    "import numpy as np\n",
    "import numpy as np\n",
    "from sklearn.model_selection import ShuffleSplit\n",
    "from keras.utils import to_categorical\n",
    "from sklearn.utils import shuffle\n",
    "from scipy.sparse import coo_matrix\n",
    "from sklearn.model_selection import train_test_split\n",
    "import matplotlib.pyplot as plt"
   ]
  },
  {
   "cell_type": "code",
   "execution_count": 2,
   "metadata": {},
   "outputs": [],
   "source": [
    "dataname = 'data-L20-8000-RAW-DATA-W15.0-W18.0'\n",
    "data_path='./data'\n",
    "modelname = '/model_'+dataname+'.h5'\n",
    "modelpath = './model'+modelname\n",
    "historyname = '/history_'+dataname+'.pkl'\n",
    "historypath = './model'+historyname"
   ]
  },
  {
   "cell_type": "markdown",
   "metadata": {},
   "source": [
    "### 2. generate dumy data"
   ]
  },
  {
   "cell_type": "code",
   "execution_count": 4,
   "metadata": {},
   "outputs": [
    {
     "name": "stdout",
     "output_type": "stream",
     "text": [
      "0 W15.0\n",
      "1 W18.0\n"
     ]
    }
   ],
   "source": [
    "data_path='./data'\n",
    "example=[]\n",
    "label=[]\n",
    "all_subdirs = [d for d in os.listdir('./data')]\n",
    "#print(all_subdirs)\n",
    "for c_indx, clss in enumerate(all_subdirs):\n",
    "    print(c_indx, clss)\n",
    "    all_files = glob.glob('./data/'+clss+'/*/*/*.raw.bz2')\n",
    "    for e in all_files:\n",
    "        # reading a bz2 archive\n",
    "        with bzopen(all_files[0], \"r\") as bzfin:\n",
    "            \"\"\" Handle lines here \"\"\"\n",
    "            lines = []\n",
    "            for i, line in enumerate(bzfin):\n",
    "                lines.append(float(line.rstrip()))\n",
    "        example.append(lines)\n",
    "        if c_indx == 0:\n",
    "            #label.append([1., 0.])\n",
    "            label.append(c_indx)\n",
    "        elif c_indx == 1:\n",
    "            #label.append([0., 1.])\n",
    "            label.append(c_indx)\n",
    "\n",
    "#lines"
   ]
  },
  {
   "cell_type": "code",
   "execution_count": 5,
   "metadata": {},
   "outputs": [],
   "source": [
    "X_sparse = coo_matrix(example)\n",
    "X = np.asarray(example, dtype=np.float32)\n",
    "#y = np.asarray(label, dtype=np.float32)\n",
    "y = to_categorical(np.array(label))\n",
    "# data shuffeling\n",
    "X, X_sparse, y = shuffle(X, X_sparse, y, random_state=0)\n",
    "# train test data split\n",
    "X_train, X_test, y_train, y_test = train_test_split(X, y, test_size=0.30, random_state=42)"
   ]
  },
  {
   "cell_type": "markdown",
   "metadata": {},
   "source": [
    "### Dense layer Model architecture"
   ]
  },
  {
   "cell_type": "code",
   "execution_count": 6,
   "metadata": {},
   "outputs": [],
   "source": [
    "model = Sequential()\n",
    "model.add(Dense(64, activation='relu', input_dim=8000))\n",
    "model.add(Dropout(0.5))\n",
    "model.add(Dense(64, activation='relu'))\n",
    "model.add(Dropout(0.5))\n",
    "model.add(Dense(2, activation='softmax'))\n",
    "\n",
    "sgd = SGD(lr=0.01, decay=1e-6, momentum=0.9, nesterov=True)"
   ]
  },
  {
   "cell_type": "code",
   "execution_count": 7,
   "metadata": {},
   "outputs": [
    {
     "name": "stdout",
     "output_type": "stream",
     "text": [
      "Model: \"sequential\"\n",
      "_________________________________________________________________\n",
      "Layer (type)                 Output Shape              Param #   \n",
      "=================================================================\n",
      "dense (Dense)                (None, 64)                512064    \n",
      "_________________________________________________________________\n",
      "dropout (Dropout)            (None, 64)                0         \n",
      "_________________________________________________________________\n",
      "dense_1 (Dense)              (None, 64)                4160      \n",
      "_________________________________________________________________\n",
      "dropout_1 (Dropout)          (None, 64)                0         \n",
      "_________________________________________________________________\n",
      "dense_2 (Dense)              (None, 2)                 130       \n",
      "=================================================================\n",
      "Total params: 516,354\n",
      "Trainable params: 516,354\n",
      "Non-trainable params: 0\n",
      "_________________________________________________________________\n",
      "None\n"
     ]
    }
   ],
   "source": [
    "model.compile(loss='categorical_crossentropy',\n",
    "                 optimizer=sgd,\n",
    "                 metrics=['accuracy'])\n",
    "print(model.summary())"
   ]
  },
  {
   "cell_type": "code",
   "execution_count": 8,
   "metadata": {},
   "outputs": [
    {
     "name": "stdout",
     "output_type": "stream",
     "text": [
      "Epoch 1/20\n",
      "93/93 [==============================] - 2s 21ms/step - loss: 0.3321 - accuracy: 0.9690 - val_loss: 0.0127 - val_accuracy: 1.0000\n",
      "Epoch 2/20\n",
      "93/93 [==============================] - 2s 19ms/step - loss: 0.0274 - accuracy: 0.9992 - val_loss: 0.0011 - val_accuracy: 1.0000\n",
      "Epoch 3/20\n",
      "93/93 [==============================] - 2s 18ms/step - loss: 0.0129 - accuracy: 0.9992 - val_loss: 3.3520e-04 - val_accuracy: 1.0000\n",
      "Epoch 4/20\n",
      "93/93 [==============================] - 2s 17ms/step - loss: 0.0073 - accuracy: 1.0000 - val_loss: 1.4403e-04 - val_accuracy: 1.0000\n",
      "Epoch 5/20\n",
      "93/93 [==============================] - 2s 18ms/step - loss: 0.0069 - accuracy: 0.9998 - val_loss: 6.9784e-05 - val_accuracy: 1.0000\n",
      "Epoch 6/20\n",
      "93/93 [==============================] - 2s 17ms/step - loss: 0.0048 - accuracy: 0.9997 - val_loss: 4.0526e-05 - val_accuracy: 1.0000\n",
      "Epoch 7/20\n",
      "93/93 [==============================] - 2s 17ms/step - loss: 0.0037 - accuracy: 1.0000 - val_loss: 2.5134e-05 - val_accuracy: 1.0000\n",
      "Epoch 8/20\n",
      "93/93 [==============================] - 2s 19ms/step - loss: 0.0033 - accuracy: 0.9998 - val_loss: 1.6784e-05 - val_accuracy: 1.0000\n",
      "Epoch 9/20\n",
      "93/93 [==============================] - 2s 17ms/step - loss: 0.0030 - accuracy: 0.9998 - val_loss: 1.1778e-05 - val_accuracy: 1.0000\n",
      "Epoch 10/20\n",
      "93/93 [==============================] - 2s 18ms/step - loss: 0.0023 - accuracy: 1.0000 - val_loss: 8.4969e-06 - val_accuracy: 1.0000\n",
      "Epoch 11/20\n",
      "93/93 [==============================] - 2s 19ms/step - loss: 0.0024 - accuracy: 1.0000 - val_loss: 6.2368e-06 - val_accuracy: 1.0000\n",
      "Epoch 12/20\n",
      "93/93 [==============================] - 2s 19ms/step - loss: 0.0019 - accuracy: 1.0000 - val_loss: 4.8159e-06 - val_accuracy: 1.0000\n",
      "Epoch 13/20\n",
      "93/93 [==============================] - 1s 15ms/step - loss: 0.0018 - accuracy: 1.0000 - val_loss: 3.7430e-06 - val_accuracy: 1.0000\n",
      "Epoch 14/20\n",
      "93/93 [==============================] - 2s 16ms/step - loss: 0.0015 - accuracy: 1.0000 - val_loss: 2.9658e-06 - val_accuracy: 1.0000\n",
      "Epoch 15/20\n",
      "93/93 [==============================] - 2s 19ms/step - loss: 0.0014 - accuracy: 1.0000 - val_loss: 2.3745e-06 - val_accuracy: 1.0000\n",
      "Epoch 16/20\n",
      "93/93 [==============================] - 2s 19ms/step - loss: 0.0014 - accuracy: 1.0000 - val_loss: 1.9597e-06 - val_accuracy: 1.0000\n",
      "Epoch 17/20\n",
      "93/93 [==============================] - 2s 17ms/step - loss: 0.0014 - accuracy: 1.0000 - val_loss: 1.6021e-06 - val_accuracy: 1.0000\n",
      "Epoch 18/20\n",
      "93/93 [==============================] - 2s 20ms/step - loss: 0.0014 - accuracy: 1.0000 - val_loss: 1.3017e-06 - val_accuracy: 1.0000\n",
      "Epoch 19/20\n",
      "93/93 [==============================] - 2s 19ms/step - loss: 0.0014 - accuracy: 1.0000 - val_loss: 1.1253e-06 - val_accuracy: 1.0000\n",
      "Epoch 20/20\n",
      "93/93 [==============================] - 2s 18ms/step - loss: 0.0012 - accuracy: 0.9998 - val_loss: 8.8684e-07 - val_accuracy: 1.0000\n"
     ]
    }
   ],
   "source": [
    "history =[]\n",
    "history = model.fit(X_train, y_train,\n",
    "                epochs=20,\n",
    "                batch_size=64,\n",
    "                verbose = 1,\n",
    "                validation_split = 0.2,\n",
    "                shuffle = False\n",
    "                #validation_data=(X_test, y_test),\n",
    "                #   callbacks=[history]\n",
    "                )"
   ]
  },
  {
   "cell_type": "code",
   "execution_count": 9,
   "metadata": {},
   "outputs": [
    {
     "name": "stdout",
     "output_type": "stream",
     "text": [
      "100/100 [==============================] - 3s 27ms/step - loss: 9.0014e-07 - accuracy: 1.0000\n",
      "Test_Accuracy: 100.00%\n"
     ]
    }
   ],
   "source": [
    "# I'll now calculate the accuracy on the test data.\n",
    "\n",
    "print(\"Test_Accuracy: {:.2f}%\".format(model.evaluate(np.array(X_test), np.array(y_test))[1]*100))"
   ]
  },
  {
   "cell_type": "code",
   "execution_count": 10,
   "metadata": {},
   "outputs": [],
   "source": [
    "model.save(modelpath) "
   ]
  },
  {
   "cell_type": "markdown",
   "metadata": {},
   "source": [
    "## testing the quality of the learned model\n",
    "### training history"
   ]
  },
  {
   "cell_type": "code",
   "execution_count": 11,
   "metadata": {},
   "outputs": [
    {
     "data": {
      "image/png": "[encoded data removed]",
      "text/plain": [
       "<Figure size 864x288 with 2 Axes>"
      ]
     },
     "metadata": {
      "needs_background": "light"
     },
     "output_type": "display_data"
    }
   ],
   "source": [
    "# evaluate model\n",
    "f, (ax1, ax2) = plt.subplots(1, 2, figsize=(12, 4))\n",
    "t = f.suptitle('Performance', fontsize=12)\n",
    "f.subplots_adjust(top=0.85, wspace=0.3)\n",
    "\n",
    "max_epoch = len(history.history['accuracy'])+1\n",
    "epoch_list = list(range(1,max_epoch))\n",
    "ax1.plot(epoch_list, history.history['accuracy'], label='Train Accuracy')\n",
    "ax1.plot(epoch_list, history.history['val_accuracy'], label='Validation Accuracy')\n",
    "ax1.set_xticks(np.arange(1, max_epoch, 5))\n",
    "ax1.set_ylabel('Accuracy Value')\n",
    "ax1.set_xlabel('Epoch')\n",
    "ax1.set_title('Accuracy')\n",
    "l1 = ax1.legend(loc=\"best\")\n",
    "\n",
    "ax2.plot(epoch_list, history.history['loss'], label='Train Loss')\n",
    "ax2.plot(epoch_list, history.history['val_loss'], label='Validation Loss')\n",
    "ax2.set_xticks(np.arange(1, max_epoch, 5))\n",
    "ax2.set_ylabel('Loss Value')\n",
    "ax2.set_xlabel('Epoch')\n",
    "ax2.set_title('Loss')\n",
    "l2 = ax2.legend(loc=\"best\")"
   ]
  },
  {
   "cell_type": "code",
   "execution_count": 29,
   "metadata": {},
   "outputs": [
    {
     "data": {
      "text/plain": [
       "array([[1.0000000e+00, 2.9151874e-09]], dtype=float32)"
      ]
     },
     "execution_count": 29,
     "metadata": {},
     "output_type": "execute_result"
    }
   ],
   "source": [
    "model.predict(X_test[50:51], batch_size=None, verbose=0, steps=None)"
   ]
  },
  {
   "cell_type": "code",
   "execution_count": 30,
   "metadata": {},
   "outputs": [
    {
     "data": {
      "text/plain": [
       "array([1., 0.], dtype=float32)"
      ]
     },
     "execution_count": 30,
     "metadata": {},
     "output_type": "execute_result"
    }
   ],
   "source": [
    "y_test[50]"
   ]
  },
  {
   "cell_type": "code",
   "execution_count": null,
   "metadata": {},
   "outputs": [],
   "source": []
  },
  {
   "cell_type": "code",
   "execution_count": null,
   "metadata": {},
   "outputs": [],
   "source": []
  }
 ],
 "metadata": {
  "kernelspec": {
   "display_name": "Python 3",
   "language": "python",
   "name": "python3"
  },
  "language_info": {
   "codemirror_mode": {
    "name": "ipython",
    "version": 3
   },
   "file_extension": ".py",
   "mimetype": "text/x-python",
   "name": "python",
   "nbconvert_exporter": "python",
   "pygments_lexer": "ipython3",
   "version": "3.8.3"
  }
 },
 "nbformat": 4,
 "nbformat_minor": 4
}
